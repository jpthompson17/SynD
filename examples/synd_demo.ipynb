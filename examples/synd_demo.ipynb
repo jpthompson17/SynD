{
 "cells": [
  {
   "cell_type": "code",
   "execution_count": 1,
   "id": "d24617a5-8f47-4d76-94d3-8e4b0046fc5b",
   "metadata": {},
   "outputs": [],
   "source": [
    "import numpy as np\n",
    "import scipy.sparse as sparse\n",
    "from synd.models import MarkovGenerator"
   ]
  },
  {
   "cell_type": "code",
   "execution_count": 2,
   "id": "b7e574a3-1bf8-452d-8eda-57d2b44f29d9",
   "metadata": {},
   "outputs": [],
   "source": [
    "pcoords = np.load('data/trp-cage/pcoords.npy')\n",
    "def pcoord_backmapper(discrete_trajectory):\n",
    "    return np.array([pcoords[state_index] for state_index in discrete_trajectory])"
   ]
  },
  {
   "cell_type": "code",
   "execution_count": 3,
   "id": "5ed98b9e-9935-45d8-9443-7cc2a95be542",
   "metadata": {},
   "outputs": [],
   "source": [
    "filename = 'data/trp-cage/sparse_tmatrix.npz'\n",
    "transition_matrix = sparse.load_npz(filename)"
   ]
  },
  {
   "cell_type": "code",
   "execution_count": 4,
   "id": "d5cf21fd-9403-41b9-ab83-22b92266d26a",
   "metadata": {},
   "outputs": [],
   "source": [
    "model = MarkovGenerator(transition_matrix)\n",
    "model.default_backmapper = pcoord_backmapper\n",
    "# model.save('trp-cage.synd')"
   ]
  },
  {
   "cell_type": "code",
   "execution_count": 5,
   "id": "969965b8",
   "metadata": {},
   "outputs": [],
   "source": [
    "n_trajectories = 1000\n",
    "length = 100\n",
    "initial_states = np.random.choice(model.n_states, size=n_trajectories)"
   ]
  },
  {
   "cell_type": "code",
   "execution_count": 11,
   "id": "79c30209",
   "metadata": {},
   "outputs": [
    {
     "name": "stdout",
     "output_type": "stream",
     "text": [
      "CPU times: user 836 ms, sys: 19.3 ms, total: 855 ms\n",
      "Wall time: 859 ms\n"
     ]
    }
   ],
   "source": [
    "%%time\n",
    "for traj in model.generate_trajectories(length, initial_states):\n",
    "    pass"
   ]
  },
  {
   "cell_type": "code",
   "execution_count": 7,
   "id": "e5c265b6",
   "metadata": {},
   "outputs": [],
   "source": [
    "length = 200000\n",
    "initial_states = np.array([1871])"
   ]
  },
  {
   "cell_type": "code",
   "execution_count": null,
   "id": "75adfcb9",
   "metadata": {},
   "outputs": [],
   "source": []
  }
 ],
 "metadata": {
  "kernelspec": {
   "display_name": "Python 3 (ipykernel)",
   "language": "python",
   "name": "python3"
  },
  "language_info": {
   "codemirror_mode": {
    "name": "ipython",
    "version": 3
   },
   "file_extension": ".py",
   "mimetype": "text/x-python",
   "name": "python",
   "nbconvert_exporter": "python",
   "pygments_lexer": "ipython3",
   "version": "3.9.7"
  }
 },
 "nbformat": 4,
 "nbformat_minor": 5
}
